{
 "cells": [
  {
   "cell_type": "code",
   "execution_count": 2,
   "id": "4b5016a7",
   "metadata": {},
   "outputs": [
    {
     "name": "stdout",
     "output_type": "stream",
     "text": [
      "The autoreload extension is already loaded. To reload it, use:\n",
      "  %reload_ext autoreload\n"
     ]
    }
   ],
   "source": [
    "from pixell import reproject, enmap, utils, enplot\n",
    "import numpy as np\n",
    "# define a plotting function\n",
    "def eshow(x,**kwargs): enplot.show(enplot.plot(x,**kwargs))\n",
    "import healpy as hp\n",
    "import coop_post_processing as cpp\n",
    "import coop_setup_funcs as csf\n",
    "import matplotlib.pyplot as plt\n",
    "import matplotlib as mpl\n",
    "from astropy import wcs as astwcs\n",
    "import sys\n",
    "# autoreload\n",
    "# instert path\n",
    "%load_ext autoreload\n",
    "%autoreload 2\n",
    "sys.path.append(\"..\")\n",
    "import stacking_functions as sf\n"
   ]
  },
  {
   "cell_type": "code",
   "execution_count": 3,
   "id": "f34d292b",
   "metadata": {},
   "outputs": [],
   "source": [
    "mymap = enmap.read_map(\"/mnt/raid-cita/mlokken/data/many_diagonal_lines_multi_direction_map.fits\")\n"
   ]
  },
  {
   "cell_type": "code",
   "execution_count": 5,
   "id": "45c90141",
   "metadata": {
    "scrolled": true
   },
   "outputs": [
    {
     "name": "stderr",
     "output_type": "stream",
     "text": [
      "WARNING: The following header keyword is invalid or follows an unrecognized non-standard convention:\n",
      "FORMAT  =HEALPIX                                                                 [astropy.io.fits.card]\n",
      "WARNING: The following header keyword is invalid or follows an unrecognized non-standard convention:\n",
      "MAP     =/mnt/raid-cita/mlokken/data/many_diagonal_lines_multi_direction_map_hpx [astropy.io.fits.card]\n",
      "WARNING: The following header keyword is invalid or follows an unrecognized non-standard convention:\n",
      "FWHM    =0.                                                                      [astropy.io.fits.card]\n",
      "WARNING: The following header keyword is invalid or follows an unrecognized non-standard convention:\n",
      "OUTPUT  =/home/mlokken/oriented_stacking/oriented_superclustering/testing/testin [astropy.io.fits.card]\n",
      "WARNING: The following header keyword is invalid or follows an unrecognized non-standard convention:\n",
      "EXTERNAL=/home/mlokken/oriented_stacking/oriented_superclustering/testing/testin [astropy.io.fits.card]\n",
      "WARNING: The following header keyword is invalid or follows an unrecognized non-standard convention:\n",
      "NU_MIN  =-1.e30                                                                  [astropy.io.fits.card]\n",
      "WARNING: The following header keyword is invalid or follows an unrecognized non-standard convention:\n",
      "NU_MAX  =1.e30                                                                   [astropy.io.fits.card]\n",
      "WARNING: The following header keyword is invalid or follows an unrecognized non-standard convention:\n",
      "FWHM_NU =0.                                                                      [astropy.io.fits.card]\n",
      "WARNING: The following header keyword is invalid or follows an unrecognized non-standard convention:\n",
      "E_MIN   =0                                                                       [astropy.io.fits.card]\n",
      "WARNING: The following header keyword is invalid or follows an unrecognized non-standard convention:\n",
      "E_MAX   =1.e30                                                                   [astropy.io.fits.card]\n",
      "WARNING: The following header keyword is invalid or follows an unrecognized non-standard convention:\n",
      "E_OPTION=HESSIAN                                                                 [astropy.io.fits.card]\n",
      "WARNING: The following header keyword is invalid or follows an unrecognized non-standard convention:\n",
      "FWHM_E  =0.                                                                      [astropy.io.fits.card]\n",
      "WARNING: The following header keyword is invalid or follows an unrecognized non-standard convention:\n",
      "ORIENT  =HESSIAN                                                                 [astropy.io.fits.card]\n",
      "WARNING: The following header keyword is invalid or follows an unrecognized non-standard convention:\n",
      "FWHM_ORI=50                                                                      [astropy.io.fits.card]\n",
      "WARNING: The following header keyword is invalid or follows an unrecognized non-standard convention:\n",
      "SYMMETRY=XY_UP                                                                   [astropy.io.fits.card]\n",
      "WARNING: The following header keyword is invalid or follows an unrecognized non-standard convention:\n",
      "SYM_OPTI=HESSIAN                                                                 [astropy.io.fits.card]\n",
      "WARNING: The following header keyword is invalid or follows an unrecognized non-standard convention:\n",
      "FWHM_SYM=50.                                                                     [astropy.io.fits.card]\n"
     ]
    }
   ],
   "source": [
    "rot_angle,ra,dec, parityx, parityy, peakid = cpp.get_peakinfo(\"/home/mlokken/oriented_stacking/oriented_superclustering/testing/testing_data/many_diag_line_multi_pks_with_orientation_asym.fits\")\n"
   ]
  },
  {
   "cell_type": "code",
   "execution_count": 7,
   "id": "6578a6e8",
   "metadata": {},
   "outputs": [
    {
     "name": "stdout",
     "output_type": "stream",
     "text": [
      "x_lrg shape is (43,) y_lrg shape is (43,) thumbnail shape is (43, 43)\n",
      "- analyze object 0\n"
     ]
    }
   ],
   "source": [
    "# make a Chunk object\n",
    "Chunk = sf.Chunk(ra, dec, rot_angle, parityx, parityy)\n",
    "orient = 'asymmetric'\n",
    "cutout_size_deg = 10\n",
    "cutout_resolution_deg = 0.5\n",
    "\n",
    "\n",
    "# Stack\n",
    "stack = sf.stackChunk(Chunk, mymap, cutout_size_deg, cutout_resolution_deg, orient)\n",
    "# try to use multiple?\n",
    "\n",
    "\n"
   ]
  },
  {
   "cell_type": "code",
   "execution_count": 82,
   "id": "4c026a01",
   "metadata": {},
   "outputs": [
    {
     "data": {
      "image/png": "[encoded data removed]",
      "text/plain": [
       "<PIL.Image.Image image mode=RGBA size=99x81 at 0x7F0602AD48E0>"
      ]
     },
     "metadata": {},
     "output_type": "display_data"
    },
    {
     "name": "stdout",
     "output_type": "stream",
     "text": [
      "0.17279243485515913 6.101936896986616 -0.1786068004610003 0.18691947411690304\n"
     ]
    }
   ],
   "source": [
    "eshow(stack, ticks=10)\n",
    "# get min, max ra, dec from stack\n",
    "ra_min = enmap.pix2sky(stack.shape, stack.wcs, [0,0])[1]\n",
    "ra_max = enmap.pix2sky(stack.shape, stack.wcs, [0,stack.shape[1]])[1]\n",
    "dec_min = enmap.pix2sky(stack.shape, stack.wcs, [0,0])[0]\n",
    "dec_max = enmap.pix2sky(stack.shape, stack.wcs, [stack.shape[0],0])[0]\n",
    "print(ra_min, ra_max, dec_min, dec_max)\n"
   ]
  },
  {
   "cell_type": "code",
   "execution_count": null,
   "id": "a6ba2eae",
   "metadata": {},
   "outputs": [],
   "source": [
    "thumb_shape, thumb_wcs  = enmap.thumbnail_geometry(r=cutout_size_deg*utils.degree, res=cutout_resolution_deg*utils.degree)\n"
   ]
  },
  {
   "cell_type": "code",
   "execution_count": null,
   "id": "40d7e4aa",
   "metadata": {},
   "outputs": [],
   "source": [
    "thumb_shape"
   ]
  },
  {
   "cell_type": "code",
   "execution_count": null,
   "id": "a81bd85a",
   "metadata": {},
   "outputs": [],
   "source": [
    "thumb_base = reproject.thumbnails(imap, coords=np.deg2rad([0,0]).T, res=cutout_resolution_deg*utils.degree, r=cutout_size_deg*utils.degree, method=\"spline\", order=1)\n",
    "thumb_shape, thumb_wcs = thumb_base.shape, thumb_base.wcs"
   ]
  },
  {
   "cell_type": "code",
   "execution_count": 83,
   "id": "88a311fd",
   "metadata": {},
   "outputs": [
    {
     "data": {
      "text/plain": [
       "<matplotlib.image.AxesImage at 0x7f06028fe410>"
      ]
     },
     "execution_count": 83,
     "metadata": {},
     "output_type": "execute_result"
    },
    {
     "data": {
      "image/png": "[encoded data removed]",
      "text/plain": [
       "<Figure size 432x288 with 1 Axes>"
      ]
     },
     "metadata": {
      "needs_background": "light"
     },
     "output_type": "display_data"
    }
   ],
   "source": [
    "plt.imshow(stack, origin='lower')"
   ]
  },
  {
   "cell_type": "code",
   "execution_count": 22,
   "id": "6fd70ebd",
   "metadata": {},
   "outputs": [
    {
     "name": "stdout",
     "output_type": "stream",
     "text": [
      "-rw-r--r-- 1 mlokken cita 35M Apr  7 10:39 /mnt/raid-cita/mlokken/data/many_diagonal_lines_multi_direction_map.fits\r\n"
     ]
    }
   ],
   "source": [
    "ls -lrth /mnt/raid-cita/mlokken/data/many_diagonal_lines_multi_direction_map.fits"
   ]
  },
  {
   "cell_type": "code",
   "execution_count": null,
   "id": "c2e184e9",
   "metadata": {},
   "outputs": [],
   "source": []
  },
  {
   "cell_type": "code",
   "execution_count": 59,
   "id": "a0f56ca9",
   "metadata": {
    "scrolled": true
   },
   "outputs": [
    {
     "name": "stderr",
     "output_type": "stream",
     "text": [
      "WARNING: The following header keyword is invalid or follows an unrecognized non-standard convention:\n",
      "FWHM_ORI=200                                                                     [astropy.io.fits.card]\n"
     ]
    }
   ],
   "source": []
  },
  {
   "cell_type": "code",
   "execution_count": 60,
   "id": "a68b22fd",
   "metadata": {},
   "outputs": [
    {
     "name": "stdout",
     "output_type": "stream",
     "text": [
      "x_lrg shape is (45,) y_lrg shape is (45,) thumbnail shape is (45, 45)\n",
      "- analyze object 0\n"
     ]
    }
   ],
   "source": [
    "# make a Chunk object\n",
    "Chunk = sf.Chunk(ra, dec, rot_angle, parityx, parityy)\n",
    "orient = 'asymmetric'\n",
    "cutout_size_deg = 5\n",
    "cutout_resolution_deg = 0.25\n",
    "\n",
    "\n",
    "# Stack\n",
    "stack = sf.stackChunk(Chunk, diaglines2, cutout_size_deg, cutout_resolution_deg, orient)"
   ]
  }
 ],
 "metadata": {
  "kernelspec": {
   "display_name": "Python 3 (ipykernel)",
   "language": "python",
   "name": "python3"
  },
  "language_info": {
   "codemirror_mode": {
    "name": "ipython",
    "version": 3
   },
   "file_extension": ".py",
   "mimetype": "text/x-python",
   "name": "python",
   "nbconvert_exporter": "python",
   "pygments_lexer": "ipython3",
   "version": "3.10.2"
  }
 },
 "nbformat": 4,
 "nbformat_minor": 5
}
